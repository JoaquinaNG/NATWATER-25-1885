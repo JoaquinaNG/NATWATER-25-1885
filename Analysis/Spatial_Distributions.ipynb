{
 "cells": [
  {
   "cell_type": "markdown",
   "id": "71a20652",
   "metadata": {},
   "source": [
    "# Spatial Distributions"
   ]
  },
  {
   "cell_type": "code",
   "execution_count": null,
   "id": "4df1779f",
   "metadata": {},
   "outputs": [],
   "source": [
    "import geopandas as gpd\n",
    "import rasterio\n",
    "from rasterio.warp import calculate_default_transform, reproject, Resampling\n",
    "from pathlib import Path\n",
    "import rasterio\n",
    "from rasterstats import zonal_stats\n",
    "import pandas as pd"
   ]
  },
  {
   "cell_type": "markdown",
   "id": "470871af",
   "metadata": {},
   "source": [
    "## Land Cover"
   ]
  },
  {
   "cell_type": "code",
   "execution_count": null,
   "id": "18655d5d",
   "metadata": {},
   "outputs": [],
   "source": [
    "tributaries = gpd.read_file(Path(\"..\") / \"Data\" / \"TributaryBoundaries\" / \"tributaries.shp\")\n",
    "tributaries = tributaries.to_crs(epsg=3435)\n",
    "tributaries[\"ID\"] =[\"LCRW\", \"IBP\", \"CalUnion\", \"CherryCreek\"]\n",
    "\n",
    "src_raster =  Path(\"..\") / \"Data\" / \"LandCover\" / \"PercImpervLilCal.tif\"\n",
    "dst_raster =  Path(\"..\") / \"Data\" / \"LandCover\" / \"PercImpervLilCal_reprojected.tif\"\n",
    "\n",
    "# Target CRS: EPSG 3435 (meters)\n",
    "target_crs = \"EPSG:3435\"\n",
    "\n",
    "with rasterio.open(src_raster) as src:\n",
    "    transform, width, height = calculate_default_transform(\n",
    "        src.crs, target_crs, src.width, src.height, *src.bounds)\n",
    "    \n",
    "    kwargs = src.meta.copy()\n",
    "    kwargs.update({\n",
    "        'crs': target_crs,\n",
    "        'transform': transform,\n",
    "        'width': width,\n",
    "        'height': height\n",
    "    })\n",
    "\n",
    "    with rasterio.open(dst_raster, 'w', **kwargs) as dst:\n",
    "        for i in range(1, src.count + 1):\n",
    "            reproject(\n",
    "                source=rasterio.band(src, i),\n",
    "                destination=rasterio.band(dst, i),\n",
    "                src_transform=src.transform,\n",
    "                src_crs=src.crs,\n",
    "                dst_transform=transform,\n",
    "                dst_crs=target_crs,\n",
    "                resampling=Resampling.nearest\n",
    "            )\n",
    "\n",
    "# Reproject polygons to match raster CRS\n",
    "with rasterio.open(dst_raster) as src:\n",
    "    tributaries = tributaries.to_crs(src.crs)\n",
    "\n",
    "# Calculate mean impervious surface per polygon\n",
    "stats = zonal_stats(tributaries, dst_raster, stats=\"mean\", geojson_out=True)\n",
    "\n",
    "# Add results to GeoDataFrame\n",
    "tributaries[\"Impervious_mean\"] = [feature[\"properties\"][\"mean\"] for feature in stats]\n",
    "\n",
    "# Example: including an ID or name field if it exists\n",
    "print(tributaries[[\"ID\", \"Impervious_mean\"]])"
   ]
  },
  {
   "cell_type": "markdown",
   "id": "e9329d5e",
   "metadata": {},
   "source": [
    "## Surficial Geology"
   ]
  },
  {
   "cell_type": "code",
   "execution_count": null,
   "id": "93909fd3",
   "metadata": {},
   "outputs": [],
   "source": [
    "soil_cover = gpd.read_file(Path(\"..\") / \"Data\" / \"Soils\" / \"USDA_soils.shp\")\n",
    "soil_cover = soil_cover.to_crs(epsg=3435)"
   ]
  },
  {
   "cell_type": "code",
   "execution_count": null,
   "id": "6f5b075c",
   "metadata": {},
   "outputs": [],
   "source": [
    "soil_names = pd.read_excel(Path(\"..\") / \"Data\" / \"Soils\" / \"soil_names.xlsx\", sheet_name='Sheet2')\n",
    "soil_names.set_index('FID', inplace=True)\n",
    "soil_names\n",
    "\n",
    "# Drop duplicates in soil_names to avoid duplicated joins (only if MUName is consistent per MUSYM)\n",
    "soil_names_clean = soil_names[['MUSYM', 'MUName']].drop_duplicates(subset='MUSYM')\n",
    "\n",
    "# Merge with soil_cover\n",
    "soil_cover = soil_cover.merge(soil_names_clean, on='MUSYM', how='left')\n",
    "soil_cover\n",
    "import geopandas as gpd\n",
    "gdf = soil_cover.copy()\n",
    "\n",
    "# Project to a metric CRS if needed\n",
    "gdf = gdf.to_crs(epsg=32616)  # example: UTM zone 16N for Chicago region\n",
    "\n",
    "# Calculate area in square meters or convert to km²\n",
    "gdf['area_km2'] = gdf.geometry.area / 1e6\n",
    "\n",
    "# View results\n",
    "# print(gdf[['MUName', 'area_km2']])\n",
    "\n",
    "# Sum the total area\n",
    "total_area = gdf['area_km2'].sum()\n",
    "# print(f\"Total Area: {total_area:.2f} km²\")\n",
    "\n",
    "# gdf\n"
   ]
  },
  {
   "cell_type": "code",
   "execution_count": null,
   "id": "e427ee7d",
   "metadata": {},
   "outputs": [],
   "source": [
    "df = gdf.copy()\n",
    "\n",
    "# Group by GUAbbrev and sum the area\n",
    "area_by_group = df.groupby('MUName', dropna=True)['area_km2'].sum().reset_index()\n",
    "\n",
    "# Calculate total area across all rows\n",
    "total_area = df['area_km2'].sum()\n",
    "\n",
    "# Add a percentage column\n",
    "area_by_group['percent_of_total'] = (area_by_group['area_km2'] / total_area) * 100\n",
    "\n",
    "# Sort by descending percentage (optional)\n",
    "area_by_group = area_by_group.sort_values('percent_of_total', ascending=False)\n",
    "\n",
    "# Display result\n",
    "# print(area_by_group)"
   ]
  },
  {
   "cell_type": "code",
   "execution_count": null,
   "id": "7f94cf74",
   "metadata": {},
   "outputs": [],
   "source": [
    "# Make sure both GeoDataFrames use the same CRS\n",
    "gdf = gdf.to_crs(tributaries.crs)\n",
    "\n",
    "# Spatial intersection\n",
    "intersections = gpd.overlay(gdf, tributaries, how='intersection')\n",
    "\n",
    "# Calculate area of intersection in km²\n",
    "intersections['intersect_area_km2'] = intersections.geometry.area / 1e6\n",
    "\n",
    "# Sum total area per polygon\n",
    "total_area_per_poly = intersections.groupby('ID')['intersect_area_km2'].sum().rename('total_area')\n",
    "\n",
    "# Merge total area back and compute percentages\n",
    "intersections = intersections.merge(total_area_per_poly, on='ID')\n",
    "intersections['percentage'] = 100 * intersections['intersect_area_km2'] / intersections['total_area']\n",
    "\n",
    "# Pivot the result: GUAbbrev as rows, ID as columns\n",
    "summary = intersections.pivot_table(\n",
    "    index='MUName',\n",
    "    columns='ID',\n",
    "    values='percentage',\n",
    "    aggfunc='sum',\n",
    "    fill_value=0\n",
    ")\n",
    "\n",
    "# Optional: Round and sort\n",
    "soil_type_distribution = summary.round(2).sort_index()\n",
    "\n",
    "# #check 100%\n",
    "# column_sums = pivot.sum(axis=0)\n",
    "# print(column_sums)\n",
    "\n",
    "# View the table\n",
    "soil_type_distribution\n"
   ]
  },
  {
   "cell_type": "markdown",
   "id": "c91a6ab4",
   "metadata": {},
   "source": [
    "## Surficial Geology"
   ]
  },
  {
   "cell_type": "code",
   "execution_count": null,
   "id": "f3b9c5ba",
   "metadata": {},
   "outputs": [],
   "source": [
    "# Load in data file\n",
    "geology_cover =  gpd.read_file(Path(\"..\") / \"Data\" / \"SurficialGeology\" / \"ISGS_WestLCRW.shp\")\n",
    "# If they don't match, reproject one of the datasets\n",
    "geology_cover = geology_cover.to_crs(epsg=3435)"
   ]
  },
  {
   "cell_type": "code",
   "execution_count": null,
   "id": "9412e682",
   "metadata": {},
   "outputs": [],
   "source": [
    "gdf = geology_cover.copy()\n",
    "\n",
    "# Project to a metric CRS if needed\n",
    "surficial_gdf = gdf.to_crs(epsg=32616)  # example: UTM zone 16N for Chicago region\n",
    "\n",
    "# Calculate area in square meters or convert to km²\n",
    "surficial_gdf['area_km2'] = surficial_gdf.geometry.area / 1e6\n",
    "\n",
    "surficial_df = surficial_gdf.copy()\n",
    "\n",
    "# Group by GUAbbrev and sum the area\n",
    "area_by_group = surficial_df.groupby('GUAbbrev', dropna=True)['area_km2'].sum().reset_index()\n",
    "\n",
    "# Calculate total area across all rows\n",
    "total_area = surficial_df['area_km2'].sum()\n",
    "\n",
    "# Add a percentage column\n",
    "area_by_group['percent_of_total'] = (area_by_group['area_km2'] / total_area) * 100\n",
    "\n",
    "# Sort by descending percentage (optional)\n",
    "area_by_group = area_by_group.sort_values('percent_of_total', ascending=False)"
   ]
  },
  {
   "cell_type": "code",
   "execution_count": null,
   "id": "d3123b8a",
   "metadata": {},
   "outputs": [],
   "source": [
    "# Make sure both GeoDataFrames use the same CRS\n",
    "surficial_gdf = surficial_gdf.to_crs(tributaries.crs)\n",
    "\n",
    "# Spatial intersection\n",
    "intersections = gpd.overlay(surficial_gdf, tributaries, how='intersection')\n",
    "\n",
    "# Calculate area of intersection in km²\n",
    "intersections['intersect_area_km2'] = intersections.geometry.area / 1e6\n",
    "\n",
    "# Sum total area per polygon\n",
    "total_area_per_poly = intersections.groupby('ID')['intersect_area_km2'].sum().rename('total_area')\n",
    "\n",
    "# Merge total area back and compute percentages\n",
    "intersections = intersections.merge(total_area_per_poly, on='ID')\n",
    "intersections['percentage'] = 100 * intersections['intersect_area_km2'] / intersections['total_area']\n",
    "\n",
    "# Pivot the result: GUAbbrev as rows, ID as columns\n",
    "pivot = intersections.pivot_table(\n",
    "    index='GUAbbrev',\n",
    "    columns='ID',\n",
    "    values='percentage',\n",
    "    aggfunc='sum',\n",
    "    fill_value=0\n",
    ")\n",
    "\n",
    "# Optional: Round and sort\n",
    "geological_distribution = pivot.round(2).sort_index()\n",
    "\n",
    "# #check 100%\n",
    "# column_sums = pivot.sum(axis=0)\n",
    "# print(column_sums)\n",
    "\n",
    "# View the table\n",
    "geological_distribution"
   ]
  },
  {
   "cell_type": "code",
   "execution_count": null,
   "id": "86c64781",
   "metadata": {},
   "outputs": [],
   "source": [
    "soil_type_distribution = soil_type_distribution.to_pickle('soil_type_distribution.pkl')\n",
    "geological_distribution.to_pickle('geological_distribution.pkl')\n"
   ]
  }
 ],
 "metadata": {
  "kernelspec": {
   "display_name": ".venv_FC (3.12.0)",
   "language": "python",
   "name": "python3"
  },
  "language_info": {
   "codemirror_mode": {
    "name": "ipython",
    "version": 3
   },
   "file_extension": ".py",
   "mimetype": "text/x-python",
   "name": "python",
   "nbconvert_exporter": "python",
   "pygments_lexer": "ipython3",
   "version": "3.12.0"
  }
 },
 "nbformat": 4,
 "nbformat_minor": 5
}
